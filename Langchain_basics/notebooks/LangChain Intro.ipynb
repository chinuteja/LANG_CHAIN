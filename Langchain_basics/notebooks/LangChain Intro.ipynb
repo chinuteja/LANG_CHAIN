{
 "cells": [
  {
   "cell_type": "code",
   "execution_count": 46,
   "id": "1ded242f",
   "metadata": {},
   "outputs": [],
   "source": [
    "# !pip install langchain"
   ]
  },
  {
   "cell_type": "code",
   "execution_count": 47,
   "id": "dadc0495",
   "metadata": {},
   "outputs": [],
   "source": [
    "# !pip install openai"
   ]
  },
  {
   "cell_type": "code",
   "execution_count": 48,
   "id": "675a6537",
   "metadata": {},
   "outputs": [],
   "source": [
    "# !pip install langchain transformers\n",
    "\n",
    "# "
   ]
  },
  {
   "cell_type": "code",
   "execution_count": 49,
   "id": "408b031c",
   "metadata": {},
   "outputs": [],
   "source": [
    "# !pip install cohere"
   ]
  },
  {
   "cell_type": "markdown",
   "id": "62a75d8c",
   "metadata": {},
   "source": [
    "## Importing Modules"
   ]
  },
  {
   "cell_type": "code",
   "execution_count": 35,
   "id": "03cd7857",
   "metadata": {},
   "outputs": [],
   "source": [
    "import os\n",
    "from secret_key import openapi_key\n",
    "# import secret_key\n",
    "from langchain.llms import Cohere\n",
    "\n",
    "from langchain.prompts import PromptTemplate\n",
    "from langchain.chains import LLMChain"
   ]
  },
  {
   "cell_type": "markdown",
   "id": "4ee2f824",
   "metadata": {},
   "source": [
    "## Setting up the stage"
   ]
  },
  {
   "cell_type": "code",
   "execution_count": 36,
   "id": "95cdb4cf",
   "metadata": {},
   "outputs": [],
   "source": [
    "cohereapi_key = 'give ur seceret key here'"
   ]
  },
  {
   "cell_type": "code",
   "execution_count": 37,
   "id": "beb0dd2c",
   "metadata": {},
   "outputs": [],
   "source": [
    "os.environ[\"OPENAI_API_KEY\"] = openapi_key\n",
    "os.environ[\"COHERE_API_KEY\"] = cohereapi_key"
   ]
  },
  {
   "cell_type": "code",
   "execution_count": 38,
   "id": "1d8d7e10",
   "metadata": {},
   "outputs": [],
   "source": [
    "llm = Cohere(temperature=0) ## read documentation for parameters ## using cohere as it is free of cost"
   ]
  },
  {
   "cell_type": "markdown",
   "id": "c3397ec9",
   "metadata": {},
   "source": [
    "## Trail"
   ]
  },
  {
   "cell_type": "code",
   "execution_count": 40,
   "id": "60859fd5",
   "metadata": {},
   "outputs": [
    {
     "name": "stdout",
     "output_type": "stream",
     "text": [
      " Here are a few suggestions for a fancy name for your new restaurant that serves Biryani in Hyderabad: \n",
      "\n",
      "1. Hyberwala: A play on the word \"Hyderabad\" and the Indian word for \"king,\" \"wala.\" It sounds premium and can attract people looking for a luxurious dining experience. \n",
      "\n",
      "2. HyberBiryani Haven: This name directly reflects the focus of your restaurant and its specialty, making it easy for potential customers to understand what you offer. \n",
      "\n",
      "3. Shahi Dawat: Meaning \"royal feast,\" this name evokes images of grandeur and opulence. It suggests that your restaurant offers a luxurious dining experience with exceptional biryani. \n",
      "\n",
      "4. Nizami Cuisine: A reference to the rich cultural heritage of Hyderabad, which is closely associated with the Nizams, implies that your restaurant offers a culinary experience inspired by the traditional recipes of the Nizam era. \n",
      "\n",
      "5. HyberBiryani Fusion: If your restaurant offers a unique twist on traditional biryani, this name suggests that you blend traditional flavors with modern culinary concepts. \n",
      "\n",
      "6. Calicut Cuisine: A reference to the southern city of Calicut, which is known for its delicious biryanis and spices, gives your restaurant\n"
     ]
    }
   ],
   "source": [
    "question = \"I live in hyderabad I planning to open a restaurent which serves biryani give me fancy name to attract people\"\n",
    "answer = llm(question)\n",
    "print(answer)"
   ]
  },
  {
   "cell_type": "markdown",
   "id": "b56a1fbc",
   "metadata": {},
   "source": [
    "## Creating a Prompt Template"
   ]
  },
  {
   "cell_type": "code",
   "execution_count": 50,
   "id": "a8fd25a1",
   "metadata": {},
   "outputs": [],
   "source": [
    "prompt_template_name = PromptTemplate(\n",
    "    \n",
    "    input_variables = [\"cuisine\"],\n",
    "    template  = \"I live in hyderabad I planning to open a restaurent which serves {cuisine} give me fancy name to attract people\"\n",
    "\n",
    ")\n",
    "# prompt_template_name.format(cuisine=\"Idly\")"
   ]
  },
  {
   "cell_type": "markdown",
   "id": "33eddaf6",
   "metadata": {},
   "source": [
    "## Creating the Chain"
   ]
  },
  {
   "cell_type": "code",
   "execution_count": 51,
   "id": "3b77b9b4",
   "metadata": {},
   "outputs": [
    {
     "name": "stdout",
     "output_type": "stream",
     "text": [
      " Here are a few suggestions for a fancy name for your restaurant that serves Idly in Hyderabad: \n",
      "\n",
      "1. Idlyteria 23 - A play on the word 'idyllic' and a number that represents the city. \n",
      "\n",
      "2. Idlyvilla - A combination of a catchy word 'idly' and a luxurious term 'villa', hinting at a premium dining experience. \n",
      "\n",
      "3. Idlyfe - A clever use of the term 'idly' and 'life', suggesting that your restaurant is a key part of life in Hyderabad. \n",
      "\n",
      "4. Idlycious - A creative blend of 'idly' and delicious, indicating that your restaurant serves exquisite Idly. \n",
      "\n",
      "5. Idlycon - A reference to a convention of idly, inferring that your restaurant is a hub for the best idly experience in Hyderabad. \n",
      "\n",
      "6. Idlystar - A name that evokes excellence and dependability, promising stellar idly dishes. \n",
      "\n",
      "7. Idlycraft - A term resembling craftsmanship, suggesting meticulous preparation and high-quality ingredients in every idly served. \n",
      "\n",
      "8. Idlylove - A playful name that expresses the warmth and comfort of idly, inviting customers to fall in love\n"
     ]
    }
   ],
   "source": [
    "chain = LLMChain(llm=llm,prompt=prompt_template_name)\n",
    "print(chain.run(\"Idly\")) ## pass just your fav food"
   ]
  },
  {
   "cell_type": "markdown",
   "id": "48fb40a2",
   "metadata": {},
   "source": [
    "## Creating a simple sequential Chain"
   ]
  },
  {
   "cell_type": "markdown",
   "id": "3ac914ba",
   "metadata": {},
   "source": [
    "<img src=\"Capture.png\" alt=\"Alt text\">\n",
    "\n"
   ]
  },
  {
   "cell_type": "code",
   "execution_count": 56,
   "id": "caaaaefd",
   "metadata": {},
   "outputs": [],
   "source": [
    "llm = Cohere(temperature=0)\n",
    "\n",
    "prompt_template_name = PromptTemplate(\n",
    "    input_variables =['cuisine'],\n",
    "    template = \"I live in hyderabad I planning to open a restaurent which serves {cuisine} give me fancy name to attract people\"\n",
    ")\n",
    "\n",
    "name_chain =LLMChain(llm=llm, prompt=prompt_template_name) ## creating chain for resturent name\n",
    "\n",
    "prompt_template_items = PromptTemplate(\n",
    "    input_variables = ['restaurant_name'],\n",
    "    template=\"\"\"Suggest some menu items for {restaurant_name}\"\"\"\n",
    ")\n",
    "\n",
    "food_items_chain = LLMChain(llm=llm, prompt=prompt_template_items) ## chain for food items"
   ]
  },
  {
   "cell_type": "code",
   "execution_count": 58,
   "id": "b729c584",
   "metadata": {},
   "outputs": [
    {
     "name": "stdout",
     "output_type": "stream",
     "text": [
      "Thank you for these suggestions! \n",
      "\n",
      "I appreciate your thoughtful response, and I am excited to explore the possibilities. Based on my research, I have narrowed down the menu options and decided to specialize in Hyderabadi Biryani. This style of cooking is known for its unique blend of spices, authenticity, and traditional cooking methods. Here is a sample menu I hope you will consider incorporating: \n",
      "\n",
      "1. Hyderabadi Chicken Biryani - Traditional recipe featuring aromatic long grain basmati rice, tender chicken pieces, and a blend of spices including cardamom, cloves, and cinnamon.\n",
      "\n",
      "2. Hyderabadi Mutton Biryani - Succulent pieces of lamb or goat cooked with traditional spices and basmati rice.\n",
      "\n",
      "3. Hyderabadi Vegetable Biryani - A flavorful option featuring a variety of vegetables, spices, and herbs for a nutritious and delicious experience. \n",
      "\n",
      "4. Keema Matar - A rich and spicy lamb and pea curry that can be paired with rice or naan. \n",
      "\n",
      "5. Raita - A cooling condiment made with thick yogurt, cucumbers, and spices to balance out the spices in other dishes. \n",
      "\n",
      "6. Pickles - A variety of homemade pickles are commonly\n"
     ]
    }
   ],
   "source": [
    "from langchain.chains import SimpleSequentialChain\n",
    "chain = SimpleSequentialChain(chains = [name_chain, food_items_chain]) ## ouput of restaurent goes to input of food items change\n",
    "print(chain.run(\"Biryani\"))"
   ]
  },
  {
   "cell_type": "markdown",
   "id": "9e1e5657",
   "metadata": {},
   "source": [
    "## Sequential chain"
   ]
  },
  {
   "cell_type": "code",
   "execution_count": 76,
   "id": "2d8df905",
   "metadata": {},
   "outputs": [],
   "source": [
    "llm = Cohere(temperature=1)\n",
    "## here you will get intermediate output i.e restaurent name\n",
    "prompt_template_name = PromptTemplate(\n",
    "    input_variables =['cuisine'],\n",
    "    template = \"I live in hyderabad I planning to open a restaurent which serves {cuisine} give me fancy name to attract people\"\n",
    ")\n",
    "\n",
    "name_chain =LLMChain(llm=llm, prompt=prompt_template_name,output_key=\"restaurant_name\") ## creating chain for resturent name\n",
    " \n",
    "prompt_template_items = PromptTemplate(\n",
    "    input_variables = ['restaurant_name'],\n",
    "    template=\"\"\"Suggest some menu items for {restaurant_name}\"\"\"\n",
    ")\n",
    "\n",
    "food_items_chain = LLMChain(llm=llm, prompt=prompt_template_items,output_key=\"food_items\") ## chain for food items"
   ]
  },
  {
   "cell_type": "code",
   "execution_count": 77,
   "id": "1a97bcca",
   "metadata": {},
   "outputs": [],
   "source": [
    "from langchain.chains import SequentialChain\n",
    "\n",
    "chain = SequentialChain(\n",
    "    chains = [name_chain, food_items_chain],\n",
    "    input_variables = ['cuisine'],\n",
    "    output_variables = ['restaurant_name', \"food_items\"]\n",
    ")\n",
    "output = chain({\"cuisine\":\"Dosa\"})"
   ]
  },
  {
   "cell_type": "code",
   "execution_count": 78,
   "id": "7971d012",
   "metadata": {},
   "outputs": [
    {
     "data": {
      "text/plain": [
       "dict_keys(['cuisine', 'restaurant_name', 'food_items'])"
      ]
     },
     "execution_count": 78,
     "metadata": {},
     "output_type": "execute_result"
    }
   ],
   "source": [
    "output.keys()"
   ]
  },
  {
   "cell_type": "code",
   "execution_count": 79,
   "id": "8865a7ff",
   "metadata": {},
   "outputs": [
    {
     "name": "stdout",
     "output_type": "stream",
     "text": [
      "******BANG**********\n",
      "Dosa\n",
      "Restaurant Names\n",
      " Here are a few potential names for your restaurant that serves Dosa: \n",
      "\n",
      "1. Dosa Heaven \n",
      "\n",
      "2. Dossaceae \n",
      "\n",
      "3. The Dosa Kingdom \n",
      "\n",
      "4. Drizzling Dosas \n",
      "\n",
      "5. Dosa Land \n",
      "\n",
      "6. Dosa Confidential \n",
      "\n",
      "7. Masala Dosa excitation \n",
      "\n",
      "8. Grand Thrills Dosa Company \n",
      "\n",
      "9. South of the Border Dosas \n",
      "\n",
      "10. Bend it like Dosaenberg \n",
      "\n",
      "These names play on words to create catchy and unique names that potential customers may find enticing. However, it would be best to consider your restaurant's overall brand, atmosphere, and target audience to choose the perfect name that aligns with your clientele and culinary offerings. \n",
      "Food Items\n",
      "Here are some menu ideas to pair with the energetic and captivating names for your Dosa-serving restaurant: \n",
      "\n",
      "1. Dosa Heaven:\n",
      "   - Category Combos: Create combos that offer a variety of Dosa flavours or innovative pairings for a culinary adventure. Example: \"Cloud Nine Combo\": Masala Dosa, Mysore Dosa, and Chocolate Dosa dated with three accompanying gravies and sides.\n",
      "   - Heavenly Creations: Feature speciality Dosa creations that showcase unique fillings or present the dosas in an enticing presentation. \n",
      "\n",
      "2. Dossaceae: \n",
      "   - Botanical bridging: emphasze the vegetable-basedMAINs and sides by featuring differentiated vegetables' flavors and strengths. Example: Brigadier Blanca - a fiery white potato mash stuffed Dosa)\")\n",
      "   - cushioned conquest: Offer Dosa derivatives familiar to your clientele but autumn subtle twists to acclimatize their palates gradually. Example: a Cheesy universally loved but featured in an updated version of their regular recipe. \n",
      "\n",
      "3. The Dosa Kingdom: \n",
      "   - Royal spree: Present royally inspired Dosa dishes adorned with traditional garnishes and elevations fit for a king. Example: Emperor's Delight - a festive platter echoing the grandeur of royal banquets. \n",
      "\n",
      "4. Drizzling Dosas\n"
     ]
    }
   ],
   "source": [
    "print(\"******BANG**********\")\n",
    "print(output[\"cuisine\"])\n",
    "print(\"Restaurant Names\")\n",
    "print(output[\"restaurant_name\"])\n",
    "print(\"Food Items\")\n",
    "print(output[\"food_items\"])"
   ]
  }
 ],
 "metadata": {
  "kernelspec": {
   "display_name": "Python 3 (ipykernel)",
   "language": "python",
   "name": "python3"
  },
  "language_info": {
   "codemirror_mode": {
    "name": "ipython",
    "version": 3
   },
   "file_extension": ".py",
   "mimetype": "text/x-python",
   "name": "python",
   "nbconvert_exporter": "python",
   "pygments_lexer": "ipython3",
   "version": "3.11.4"
  }
 },
 "nbformat": 4,
 "nbformat_minor": 5
}
